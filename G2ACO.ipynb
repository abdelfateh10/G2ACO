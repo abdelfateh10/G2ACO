{
  "nbformat": 4,
  "nbformat_minor": 0,
  "metadata": {
    "colab": {
      "provenance": [],
      "gpuType": "T4"
    },
    "kernelspec": {
      "name": "python3",
      "display_name": "Python 3"
    },
    "language_info": {
      "name": "python"
    },
    "accelerator": "GPU"
  },
  "cells": [
    {
      "cell_type": "markdown",
      "source": [
        "\n",
        "\n",
        "\n",
        "# First install Torch Geometric library\n",
        "\n",
        "\n",
        "Ensure that you have Torch Geometric installed before proceeding."
      ],
      "metadata": {
        "id": "gaANcVnDY3VZ"
      }
    },
    {
      "cell_type": "code",
      "execution_count": 1,
      "metadata": {
        "id": "lFK2jqy3TLya",
        "colab": {
          "base_uri": "https://localhost:8080/"
        },
        "outputId": "e3a7cff7-a092-4e1a-9acc-7b4f7c3a4cbf"
      },
      "outputs": [
        {
          "output_type": "stream",
          "name": "stdout",
          "text": [
            "Collecting torch_geometric==2.4.0\n",
            "  Downloading torch_geometric-2.4.0-py3-none-any.whl (1.0 MB)\n",
            "\u001b[?25l     \u001b[90m━━━━━━━━━━━━━━━━━━━━━━━━━━━━━━━━━━━━━━━━\u001b[0m \u001b[32m0.0/1.0 MB\u001b[0m \u001b[31m?\u001b[0m eta \u001b[36m-:--:--\u001b[0m\r\u001b[2K     \u001b[91m━━━━━━━━━━━━━━\u001b[0m\u001b[90m╺\u001b[0m\u001b[90m━━━━━━━━━━━━━━━━━━━━━━━━━\u001b[0m \u001b[32m0.4/1.0 MB\u001b[0m \u001b[31m10.8 MB/s\u001b[0m eta \u001b[36m0:00:01\u001b[0m\r\u001b[2K     \u001b[91m━━━━━━━━━━━━━━━━━━━━━━━━━━━━━━━━━━━━━━━\u001b[0m\u001b[91m╸\u001b[0m \u001b[32m1.0/1.0 MB\u001b[0m \u001b[31m15.4 MB/s\u001b[0m eta \u001b[36m0:00:01\u001b[0m\r\u001b[2K     \u001b[90m━━━━━━━━━━━━━━━━━━━━━━━━━━━━━━━━━━━━━━━━\u001b[0m \u001b[32m1.0/1.0 MB\u001b[0m \u001b[31m13.3 MB/s\u001b[0m eta \u001b[36m0:00:00\u001b[0m\n",
            "\u001b[?25hRequirement already satisfied: tqdm in /usr/local/lib/python3.10/dist-packages (from torch_geometric==2.4.0) (4.66.2)\n",
            "Requirement already satisfied: numpy in /usr/local/lib/python3.10/dist-packages (from torch_geometric==2.4.0) (1.25.2)\n",
            "Requirement already satisfied: scipy in /usr/local/lib/python3.10/dist-packages (from torch_geometric==2.4.0) (1.11.4)\n",
            "Requirement already satisfied: jinja2 in /usr/local/lib/python3.10/dist-packages (from torch_geometric==2.4.0) (3.1.3)\n",
            "Requirement already satisfied: requests in /usr/local/lib/python3.10/dist-packages (from torch_geometric==2.4.0) (2.31.0)\n",
            "Requirement already satisfied: pyparsing in /usr/local/lib/python3.10/dist-packages (from torch_geometric==2.4.0) (3.1.1)\n",
            "Requirement already satisfied: scikit-learn in /usr/local/lib/python3.10/dist-packages (from torch_geometric==2.4.0) (1.2.2)\n",
            "Requirement already satisfied: psutil>=5.8.0 in /usr/local/lib/python3.10/dist-packages (from torch_geometric==2.4.0) (5.9.5)\n",
            "Requirement already satisfied: MarkupSafe>=2.0 in /usr/local/lib/python3.10/dist-packages (from jinja2->torch_geometric==2.4.0) (2.1.5)\n",
            "Requirement already satisfied: charset-normalizer<4,>=2 in /usr/local/lib/python3.10/dist-packages (from requests->torch_geometric==2.4.0) (3.3.2)\n",
            "Requirement already satisfied: idna<4,>=2.5 in /usr/local/lib/python3.10/dist-packages (from requests->torch_geometric==2.4.0) (3.6)\n",
            "Requirement already satisfied: urllib3<3,>=1.21.1 in /usr/local/lib/python3.10/dist-packages (from requests->torch_geometric==2.4.0) (2.0.7)\n",
            "Requirement already satisfied: certifi>=2017.4.17 in /usr/local/lib/python3.10/dist-packages (from requests->torch_geometric==2.4.0) (2024.2.2)\n",
            "Requirement already satisfied: joblib>=1.1.1 in /usr/local/lib/python3.10/dist-packages (from scikit-learn->torch_geometric==2.4.0) (1.3.2)\n",
            "Requirement already satisfied: threadpoolctl>=2.0.0 in /usr/local/lib/python3.10/dist-packages (from scikit-learn->torch_geometric==2.4.0) (3.3.0)\n",
            "Installing collected packages: torch_geometric\n",
            "Successfully installed torch_geometric-2.4.0\n",
            "Collecting ipython-autotime\n",
            "  Downloading ipython_autotime-0.3.2-py2.py3-none-any.whl (7.0 kB)\n",
            "Requirement already satisfied: ipython in /usr/local/lib/python3.10/dist-packages (from ipython-autotime) (7.34.0)\n",
            "Requirement already satisfied: setuptools>=18.5 in /usr/local/lib/python3.10/dist-packages (from ipython->ipython-autotime) (67.7.2)\n",
            "Collecting jedi>=0.16 (from ipython->ipython-autotime)\n",
            "  Downloading jedi-0.19.1-py2.py3-none-any.whl (1.6 MB)\n",
            "\u001b[2K     \u001b[90m━━━━━━━━━━━━━━━━━━━━━━━━━━━━━━━━━━━━━━━━\u001b[0m \u001b[32m1.6/1.6 MB\u001b[0m \u001b[31m8.9 MB/s\u001b[0m eta \u001b[36m0:00:00\u001b[0m\n",
            "\u001b[?25hRequirement already satisfied: decorator in /usr/local/lib/python3.10/dist-packages (from ipython->ipython-autotime) (4.4.2)\n",
            "Requirement already satisfied: pickleshare in /usr/local/lib/python3.10/dist-packages (from ipython->ipython-autotime) (0.7.5)\n",
            "Requirement already satisfied: traitlets>=4.2 in /usr/local/lib/python3.10/dist-packages (from ipython->ipython-autotime) (5.7.1)\n",
            "Requirement already satisfied: prompt-toolkit!=3.0.0,!=3.0.1,<3.1.0,>=2.0.0 in /usr/local/lib/python3.10/dist-packages (from ipython->ipython-autotime) (3.0.43)\n",
            "Requirement already satisfied: pygments in /usr/local/lib/python3.10/dist-packages (from ipython->ipython-autotime) (2.16.1)\n",
            "Requirement already satisfied: backcall in /usr/local/lib/python3.10/dist-packages (from ipython->ipython-autotime) (0.2.0)\n",
            "Requirement already satisfied: matplotlib-inline in /usr/local/lib/python3.10/dist-packages (from ipython->ipython-autotime) (0.1.6)\n",
            "Requirement already satisfied: pexpect>4.3 in /usr/local/lib/python3.10/dist-packages (from ipython->ipython-autotime) (4.9.0)\n",
            "Requirement already satisfied: parso<0.9.0,>=0.8.3 in /usr/local/lib/python3.10/dist-packages (from jedi>=0.16->ipython->ipython-autotime) (0.8.3)\n",
            "Requirement already satisfied: ptyprocess>=0.5 in /usr/local/lib/python3.10/dist-packages (from pexpect>4.3->ipython->ipython-autotime) (0.7.0)\n",
            "Requirement already satisfied: wcwidth in /usr/local/lib/python3.10/dist-packages (from prompt-toolkit!=3.0.0,!=3.0.1,<3.1.0,>=2.0.0->ipython->ipython-autotime) (0.2.13)\n",
            "Installing collected packages: jedi, ipython-autotime\n",
            "Successfully installed ipython-autotime-0.3.2 jedi-0.19.1\n",
            "time: 381 µs (started: 2024-02-27 19:18:11 +00:00)\n"
          ]
        }
      ],
      "source": [
        "! pip install  torch_geometric==2.4.0\n",
        "!pip install ipython-autotime\n",
        "%load_ext autotime"
      ]
    },
    {
      "cell_type": "markdown",
      "source": [
        "# `G2ACO`\n",
        "**Import necessary libraries**  \n",
        "Import the required Python libraries for your project."
      ],
      "metadata": {
        "id": "R4EJGIO8ZHwe"
      }
    },
    {
      "cell_type": "code",
      "source": [
        "from re import X\n",
        "import torch\n",
        "import torch.nn as nn\n",
        "import torch.optim as optim\n",
        "from torch_geometric.nn import GATConv\n",
        "from torch_geometric.datasets import Planetoid\n",
        "from torch_geometric.utils import to_dense_adj\n",
        "from sklearn.cluster import KMeans\n",
        "from sklearn.metrics import normalized_mutual_info_score,adjusted_rand_score,accuracy_score\n",
        "from scipy.sparse import coo_matrix\n",
        "import numpy as np\n",
        "from torch_geometric.data import Data\n",
        "import matplotlib.pyplot as plt\n",
        "from sklearn.manifold import TSNE\n",
        "import torch.nn.functional as F"
      ],
      "metadata": {
        "id": "q2tGslKiTQlK",
        "colab": {
          "base_uri": "https://localhost:8080/"
        },
        "outputId": "3426d5df-5f73-489d-f9eb-eccb32fcad01"
      },
      "execution_count": 2,
      "outputs": [
        {
          "output_type": "stream",
          "name": "stdout",
          "text": [
            "time: 7.54 s (started: 2024-02-27 19:18:11 +00:00)\n"
          ]
        }
      ]
    },
    {
      "cell_type": "code",
      "source": [
        "device = torch.device('cuda' if torch.cuda.is_available() else 'cpu')\n",
        "torch.manual_seed(50)\n",
        "np.random.seed(50)"
      ],
      "metadata": {
        "id": "k7_f0BO5TXnS",
        "colab": {
          "base_uri": "https://localhost:8080/"
        },
        "outputId": "281ae401-38de-4535-b123-cc5610a18630"
      },
      "execution_count": 3,
      "outputs": [
        {
          "output_type": "stream",
          "name": "stdout",
          "text": [
            "time: 74.3 ms (started: 2024-02-27 19:19:33 +00:00)\n"
          ]
        }
      ]
    },
    {
      "cell_type": "markdown",
      "source": [
        "import datasets from torch geometric dataset\n",
        "\n",
        "Load or import the dataset"
      ],
      "metadata": {
        "id": "VGfMgMlrZyPk"
      }
    },
    {
      "cell_type": "code",
      "source": [
        "# dataset name\n",
        "dataset_name='pubmed'\n",
        "\n",
        "# Load the dataset\n",
        "root = '/content/'+dataset_name\n",
        "dataset = Planetoid(root=root, name=dataset_name)\n"
      ],
      "metadata": {
        "id": "5M-IAz1ZTcZQ",
        "colab": {
          "base_uri": "https://localhost:8080/"
        },
        "outputId": "0e71ef5a-6567-4103-a098-ddd9a5dd1b0d"
      },
      "execution_count": 4,
      "outputs": [
        {
          "output_type": "stream",
          "name": "stderr",
          "text": [
            "Downloading https://github.com/kimiyoung/planetoid/raw/master/data/ind.pubmed.x\n",
            "Downloading https://github.com/kimiyoung/planetoid/raw/master/data/ind.pubmed.tx\n",
            "Downloading https://github.com/kimiyoung/planetoid/raw/master/data/ind.pubmed.allx\n",
            "Downloading https://github.com/kimiyoung/planetoid/raw/master/data/ind.pubmed.y\n",
            "Downloading https://github.com/kimiyoung/planetoid/raw/master/data/ind.pubmed.ty\n",
            "Downloading https://github.com/kimiyoung/planetoid/raw/master/data/ind.pubmed.ally\n",
            "Downloading https://github.com/kimiyoung/planetoid/raw/master/data/ind.pubmed.graph\n",
            "Downloading https://github.com/kimiyoung/planetoid/raw/master/data/ind.pubmed.test.index\n",
            "Processing...\n"
          ]
        },
        {
          "output_type": "stream",
          "name": "stdout",
          "text": [
            "time: 3.72 s (started: 2024-02-27 19:20:13 +00:00)\n"
          ]
        },
        {
          "output_type": "stream",
          "name": "stderr",
          "text": [
            "Done!\n"
          ]
        }
      ]
    },
    {
      "cell_type": "markdown",
      "source": [
        "Define settings\n",
        "Set up necessary configurations for G2ACO model."
      ],
      "metadata": {
        "id": "07y8_o7faVTh"
      }
    },
    {
      "cell_type": "code",
      "source": [
        "num_communities=dataset.num_classes\n",
        "num_nodes=dataset.data.num_nodes\n",
        "y = dataset.data.y\n",
        "dropout=0.7\n",
        "dropout1=0.4\n",
        "\n",
        "A = torch.tensor(dataset.edge_index, dtype=torch.long).clone().detach()\n",
        "A = coo_matrix((np.ones(A.shape[1]), (A[0], A[1])), shape=(num_nodes, num_nodes))\n",
        "A = torch.tensor(A.toarray(), dtype=torch.float).clone().detach()\n",
        "data = Data(x=dataset.x, edge_index=dataset.edge_index, y=dataset.y)\n",
        "# Convert to GPU if available\n",
        "A=A.to(device)\n",
        "data = data.to(device)\n",
        "\n",
        "input_dim = data.x.shape[1]\n",
        "hidden_dim = 32\n",
        "latent_dim = 8\n",
        "n_heads = 8"
      ],
      "metadata": {
        "id": "fjDF0BItTdH_",
        "colab": {
          "base_uri": "https://localhost:8080/"
        },
        "outputId": "be81d325-bfe1-461b-d27d-0bcedcfd7341"
      },
      "execution_count": 5,
      "outputs": [
        {
          "output_type": "stream",
          "name": "stderr",
          "text": [
            "/usr/local/lib/python3.10/dist-packages/torch_geometric/data/in_memory_dataset.py:284: UserWarning: It is not recommended to directly access the internal storage format `data` of an 'InMemoryDataset'. If you are absolutely certain what you are doing, access the internal storage via `InMemoryDataset._data` instead to suppress this warning. Alternatively, you can access stacked individual attributes of every graph via `dataset.{attr_name}`.\n",
            "  warnings.warn(msg)\n",
            "<ipython-input-5-bc85ef33ad99>:7: UserWarning: To copy construct from a tensor, it is recommended to use sourceTensor.clone().detach() or sourceTensor.clone().detach().requires_grad_(True), rather than torch.tensor(sourceTensor).\n",
            "  A = torch.tensor(dataset.edge_index, dtype=torch.long).clone().detach()\n"
          ]
        },
        {
          "output_type": "stream",
          "name": "stdout",
          "text": [
            "time: 3.81 s (started: 2024-02-27 19:20:24 +00:00)\n"
          ]
        }
      ]
    },
    {
      "cell_type": "markdown",
      "source": [
        "G2ACO model"
      ],
      "metadata": {
        "id": "zSI6rPwPajnO"
      }
    },
    {
      "cell_type": "code",
      "source": [
        "torch.manual_seed(42)\n",
        "np.random.seed(42)\n",
        "class GVAE(nn.Module):\n",
        "    def __init__(self, input_dim, hidden_dim, latent_dim, n_heads, dropout,dropout1):\n",
        "        super(GVAE, self).__init__()\n",
        "        torch.manual_seed(1234567)\n",
        "        self.enc1 = GATConv(input_dim, hidden_dim, heads=n_heads)\n",
        "        self.enc2 = GATConv(hidden_dim * n_heads, latent_dim, heads=n_heads)\n",
        "\n",
        "    def encode(self, x, edge_index):\n",
        "        x = nn.functional.dropout(x,p=dropout, training=self.training)\n",
        "        x = self.enc1(x, edge_index)\n",
        "        x = nn.functional.dropout(x,p=dropout1,  training=self.training) # 7 4\n",
        "        x = self.enc2(x, edge_index)\n",
        "        x  = F.normalize(x, p=2, dim=1)\n",
        "        return x\n",
        "\n",
        "    def decode(self, z):\n",
        "        return nn.functional.sigmoid(torch.matmul(z, z.t()))\n",
        "\n",
        "    def forward(self, x, edge_index):\n",
        "        z = self.encode(x, edge_index)\n",
        "        recon = self.decode(z)\n",
        "        return recon, z\n"
      ],
      "metadata": {
        "colab": {
          "base_uri": "https://localhost:8080/"
        },
        "id": "HlHD7vqfWR04",
        "outputId": "f688948e-17ca-4ba6-e97f-ee34e6dca52c"
      },
      "execution_count": 6,
      "outputs": [
        {
          "output_type": "stream",
          "name": "stdout",
          "text": [
            "time: 5.56 ms (started: 2024-02-27 19:20:30 +00:00)\n"
          ]
        }
      ]
    },
    {
      "cell_type": "markdown",
      "source": [
        "Define k-means clustering loss function\n",
        "This loss function specifically designed for clustering tasks."
      ],
      "metadata": {
        "id": "eZyg0e5UawIo"
      }
    },
    {
      "cell_type": "code",
      "source": [
        "# Defin the k-means as a clustering loss function\n",
        "def k_means_clustering_loss(embeddings, num_clusters):\n",
        "     # Perform clustering using K-means\n",
        "    kmeans = KMeans(n_clusters=num_clusters, max_iter=5000,n_init=20,init='k-means++')\n",
        "    kmeans.fit(embeddings.detach().cpu().numpy())\n",
        "    cluster_centers = torch.tensor(kmeans.cluster_centers_, dtype=torch.float32, device=embeddings.device)\n",
        "    # Compute pairwise distances between node embeddings and cluster centers\n",
        "    pairwise_distances = torch.cdist(embeddings, cluster_centers)\n",
        "    # Minimize the distance to the closest cluster center\n",
        "    clustering_loss = torch.min(pairwise_distances, dim=1)[0].mean()\n",
        "    return clustering_loss\n"
      ],
      "metadata": {
        "colab": {
          "base_uri": "https://localhost:8080/"
        },
        "id": "b48yxzbwWcmE",
        "outputId": "a6059a99-2803-43b2-8ae8-fe398dd436bc"
      },
      "execution_count": 7,
      "outputs": [
        {
          "output_type": "stream",
          "name": "stdout",
          "text": [
            "time: 757 µs (started: 2024-02-27 19:20:36 +00:00)\n"
          ]
        }
      ]
    },
    {
      "cell_type": "markdown",
      "source": [
        "Define optimizer"
      ],
      "metadata": {
        "id": "troJV3s0bIwq"
      }
    },
    {
      "cell_type": "code",
      "source": [
        "model = GVAE(input_dim, hidden_dim, latent_dim, n_heads, dropout,dropout1)\n",
        "# Define the optimizer\n",
        "optimizer = optim.Adam(model.parameters(), lr=0.006, weight_decay=5e-3)\n",
        "model = model.to(device)"
      ],
      "metadata": {
        "colab": {
          "base_uri": "https://localhost:8080/"
        },
        "id": "kv-FMBDuWYSO",
        "outputId": "33930d1f-1533-4760-f632-d63e83d7ba60"
      },
      "execution_count": 8,
      "outputs": [
        {
          "output_type": "stream",
          "name": "stdout",
          "text": [
            "time: 26.2 ms (started: 2024-02-27 19:20:38 +00:00)\n"
          ]
        }
      ]
    },
    {
      "cell_type": "markdown",
      "source": [
        "Training loop and execution"
      ],
      "metadata": {
        "id": "Bh6_eG3abQrz"
      }
    },
    {
      "cell_type": "code",
      "source": [
        "# Training loop\n",
        "def train():\n",
        "    model.train()\n",
        "    optimizer.zero_grad()\n",
        "    recon, z = model(data.x, data.edge_index)\n",
        "    recon_loss = F.binary_cross_entropy(recon,A, reduction='mean')\n",
        "    clustering_loss=k_means_clustering_loss(z,dataset.num_classes)\n",
        "    loss = recon_loss + 10 *clustering_loss\n",
        "    loss.backward()\n",
        "    optimizer.step()\n",
        "    return loss.item()\n",
        "\n",
        "# Training loop\n",
        "for epoch in range(25):\n",
        "    loss = train()\n",
        "    print(f\"Epoch: {epoch+1}, Loss: {loss:.4f}\")\n"
      ],
      "metadata": {
        "colab": {
          "base_uri": "https://localhost:8080/"
        },
        "id": "FbQQgqx3WtDN",
        "outputId": "6bee845d-7b71-4316-8d08-82d792c552b0"
      },
      "execution_count": 9,
      "outputs": [
        {
          "output_type": "stream",
          "name": "stdout",
          "text": [
            "Epoch: 1, Loss: 9.7816\n",
            "Epoch: 2, Loss: 4.3902\n",
            "Epoch: 3, Loss: 3.0743\n",
            "Epoch: 4, Loss: 2.5570\n",
            "Epoch: 5, Loss: 2.2857\n",
            "Epoch: 6, Loss: 2.1228\n",
            "Epoch: 7, Loss: 2.0082\n",
            "Epoch: 8, Loss: 1.9284\n",
            "Epoch: 9, Loss: 1.8690\n",
            "Epoch: 10, Loss: 1.8188\n",
            "Epoch: 11, Loss: 1.7817\n",
            "Epoch: 12, Loss: 1.7499\n",
            "Epoch: 13, Loss: 1.7214\n",
            "Epoch: 14, Loss: 1.6978\n",
            "Epoch: 15, Loss: 1.6768\n",
            "Epoch: 16, Loss: 1.6600\n",
            "Epoch: 17, Loss: 1.6442\n",
            "Epoch: 18, Loss: 1.6292\n",
            "Epoch: 19, Loss: 1.6156\n",
            "Epoch: 20, Loss: 1.6033\n",
            "Epoch: 21, Loss: 1.5933\n",
            "Epoch: 22, Loss: 1.5828\n",
            "Epoch: 23, Loss: 1.5725\n",
            "Epoch: 24, Loss: 1.5640\n",
            "Epoch: 25, Loss: 1.5565\n",
            "time: 1min 6s (started: 2024-02-27 19:20:43 +00:00)\n"
          ]
        }
      ]
    },
    {
      "cell_type": "markdown",
      "source": [
        "Evaluation"
      ],
      "metadata": {
        "id": "lVMhBPb4bW7Z"
      }
    },
    {
      "cell_type": "code",
      "source": [
        "model.eval()\n",
        "with torch.no_grad():\n",
        "     embeddings = model.encode(data.x, data.edge_index)\n",
        "     embeddings = embeddings.cpu().detach().numpy()\n",
        "\n",
        "# Perform clustering using K-means\n",
        "kmeans = KMeans(n_clusters=dataset.num_classes,max_iter=5000, n_init=20,init='k-means++')\n",
        "clusters = kmeans.fit_predict(embeddings)\n",
        "\n",
        "    # Evaluate clustering performance using NMI and ARI\n",
        "nmi = normalized_mutual_info_score((data.y).cpu(), clusters)\n",
        "ari = adjusted_rand_score((data.y).cpu(), clusters)\n",
        "print(f\"NMI: {nmi:.4f}\")\n",
        "print(f\"ARI: {ari:.4f}\")"
      ],
      "metadata": {
        "colab": {
          "base_uri": "https://localhost:8080/"
        },
        "id": "MsxQGm7IW5J6",
        "outputId": "b3df0d6b-9017-47d1-c250-ab2d0ea1891f"
      },
      "execution_count": 10,
      "outputs": [
        {
          "output_type": "stream",
          "name": "stdout",
          "text": [
            "NMI: 0.3451\n",
            "ARI: 0.3314\n",
            "time: 1.38 s (started: 2024-02-27 19:22:59 +00:00)\n"
          ]
        }
      ]
    }
  ]
}